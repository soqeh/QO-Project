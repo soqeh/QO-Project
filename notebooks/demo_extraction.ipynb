# Demo: QO Extraction Pipeline
This notebook demonstrates how to use the provided pipeline to reproduce a derivation.
## 1. Setup
Install required packages (run only once):
!pip install -r ../requirements.txt
## 2. Import necessary functions
from src.pipeline import run_derivation
from pathlib import Path
## 3. Load input parameters
params_file = Path('../data/params.yaml')
params_text = params_file.read_text()
print(params_text[:400])
## 4. Run the derivation
result = run_derivation(params_file)
print(result)
## 5. Review output
Feel free to customize this section for visualizations or saving results.
